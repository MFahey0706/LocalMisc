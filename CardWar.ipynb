{
 "cells": [
  {
   "cell_type": "code",
   "execution_count": 21,
   "metadata": {
    "collapsed": false
   },
   "outputs": [],
   "source": [
    "from itertools import permutations as perm\n",
    "from __future__ import division\n",
    "from numpy import random\n",
    "import math\n",
    "import operator\n",
    "warmax = 7\n",
    "competitors = {''.join(map(str,x)):x for x in perm(range(1,warmax+1))}\n"
   ]
  },
  {
   "cell_type": "code",
   "execution_count": 22,
   "metadata": {
    "collapsed": false
   },
   "outputs": [],
   "source": [
    "#benchmark\n",
    "b_results = {k:0 for k in competitors.keys()}\n",
    "for k in competitors.keys():\n",
    "    for k2 in [min(competitors),max(competitors)]:\n",
    "        if k != k2:\n",
    "            v=competitors[k]\n",
    "            b_results[k] += ((sum([v[i]>competitors[k2][i] for i in range(0,len(v))]) / len(v)) >= .5)\n",
    "            #print \"%s vs %s result %s\" % (k, k2, sum([v[i]>competitors[k2][i] for i in range(0,len(v))]))"
   ]
  },
  {
   "cell_type": "code",
   "execution_count": 26,
   "metadata": {
    "collapsed": false
   },
   "outputs": [],
   "source": [
    "#subset compete\n",
    "subdict = {k:v for k,v in competitors.iteritems() if b_results[k] == 2}\n",
    "c_results = {k:0 for k in competitors.keys()}\n",
    "d_results = {k:0 for k in competitors.keys()}\n",
    "for k in subdict.keys():\n",
    "    for k2 in subdict.keys():\n",
    "        if k != k2:\n",
    "            v=subdict[k]\n",
    "            c_results[k] += ((sum([v[i]>subdict[k2][i] for i in range(0,len(v))]) / len(v)) >= .5)\n",
    "            #print \"%s vs %s result %s\" % (k, k2, sum([v[i]>subdict[k2][i] for i in range(0,len(v))]))"
   ]
  },
  {
   "cell_type": "code",
   "execution_count": 29,
   "metadata": {
    "collapsed": false
   },
   "outputs": [
    {
     "name": "stdout",
     "output_type": "stream",
     "text": [
      "2467153\n",
      "2561473\n",
      "2561473\n",
      "3725614\n",
      "3725614\n",
      "3725614\n",
      "3725614\n",
      "3725614\n",
      "3725614\n",
      "2561473\n",
      "3725614\n",
      "3725614\n",
      "3725614\n",
      "3725614\n",
      "2561473\n",
      "2561473\n",
      "2561473\n",
      "2561473\n",
      "3725614\n",
      "3725614\n",
      "3725614\n",
      "3725614\n",
      "3725614\n",
      "3725614\n",
      "3725614\n",
      "3725614\n",
      "2561473\n",
      "3725614\n",
      "3725614\n",
      "3725614\n",
      "3725614\n",
      "2561473\n",
      "2561473\n",
      "2561473\n",
      "3725614\n",
      "2561473\n",
      "3725614\n",
      "2561473\n",
      "2561473\n",
      "3725614\n",
      "2561473\n",
      "3725614\n",
      "2561473\n",
      "2561473\n",
      "2561473\n",
      "2561473\n",
      "2561473\n",
      "2561473\n",
      "3725614\n",
      "2561473\n",
      "2561473\n",
      "3725614\n",
      "5467132\n",
      "2561473\n",
      "3725614\n",
      "2561473\n",
      "3725614\n",
      "2561473\n",
      "2561473\n",
      "3725614\n",
      "3725614\n",
      "2561473\n",
      "2561473\n",
      "5467132\n",
      "3725614\n",
      "3725614\n",
      "2561473\n",
      "3725614\n",
      "2561473\n",
      "3725614\n",
      "3725614\n",
      "2561473\n",
      "3725614\n",
      "2561473\n",
      "2561473\n",
      "2561473\n",
      "3725614\n",
      "3725614\n",
      "2561473\n",
      "3725614\n",
      "3725614\n",
      "2561473\n",
      "3725614\n",
      "3725614\n",
      "2561473\n",
      "5467132\n",
      "2561473\n",
      "3725614\n",
      "2561473\n",
      "3725614\n",
      "2561473\n",
      "3725614\n",
      "2561473\n",
      "3725614\n",
      "3725614\n",
      "3725614\n",
      "3725614\n",
      "3725614\n",
      "3725614\n",
      "3725614\n"
     ]
    }
   ],
   "source": [
    "#re-compete\n",
    "rounds = 100\n",
    "for y in range(0,rounds):\n",
    "    for x in range(0,rounds):\n",
    "        top = random.randint(1,math.ceil(math.log10(len(subdict))+1))\n",
    "        topdict={}\n",
    "        for k,v in sorted(c_results.iteritems(), key=lambda (k,v): (v,k), reverse = True)[:top]:\n",
    "            topdict[k]=v\n",
    "        for k in subdict.keys():\n",
    "            for k2 in topdict.keys():\n",
    "                if k != k2:\n",
    "                    v=subdict[k]\n",
    "                    c_results[k] += ((sum([v[i]>subdict[k2][i] for i in range(0,len(v))]) / len(v)) >= .5)\n",
    "    t = max(c_results.iteritems(), key=operator.itemgetter(1))[0]\n",
    "    print t\n",
    "    d_results[t]+=1"
   ]
  },
  {
   "cell_type": "code",
   "execution_count": 30,
   "metadata": {
    "collapsed": false
   },
   "outputs": [
    {
     "name": "stdout",
     "output_type": "stream",
     "text": [
      "3725614: 56\n",
      "2561473: 42\n",
      "5467132: 3\n",
      "3516472: 3\n",
      "2467153: 3\n",
      "4367152: 2\n",
      "2476153: 1\n",
      "7654321: 0\n",
      "7654312: 0\n",
      "7654231: 0\n"
     ]
    }
   ],
   "source": [
    "for key, value in sorted(d_results.iteritems(), key=lambda (k,v): (v,k), reverse = True)[:10]:\n",
    "    print \"%s: %s\" % (key, value)"
   ]
  },
  {
   "cell_type": "code",
   "execution_count": null,
   "metadata": {
    "collapsed": true
   },
   "outputs": [],
   "source": []
  }
 ],
 "metadata": {
  "kernelspec": {
   "display_name": "Python 2",
   "language": "python",
   "name": "python2"
  },
  "language_info": {
   "codemirror_mode": {
    "name": "ipython",
    "version": 2
   },
   "file_extension": ".py",
   "mimetype": "text/x-python",
   "name": "python",
   "nbconvert_exporter": "python",
   "pygments_lexer": "ipython2",
   "version": "2.7.13"
  }
 },
 "nbformat": 4,
 "nbformat_minor": 0
}
